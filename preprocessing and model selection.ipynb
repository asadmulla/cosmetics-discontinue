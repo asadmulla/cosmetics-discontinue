{
 "cells": [
  {
   "cell_type": "code",
   "execution_count": 2,
   "id": "195eec65-f2b4-4369-b991-40b8dda1978a",
   "metadata": {},
   "outputs": [],
   "source": [
    "import pandas as pd \n",
    "import numpy as np\n",
    "import matplotlib.pyplot as plt\n",
    "import seaborn as sns\n",
    "\n",
    "import warnings\n",
    "warnings.filterwarnings('ignore')"
   ]
  },
  {
   "cell_type": "code",
   "execution_count": 3,
   "id": "aa75515c-55bd-4a0b-9c40-4b2ad0b6df7a",
   "metadata": {},
   "outputs": [],
   "source": [
    "data = pd.read_csv(\"data.csv\")"
   ]
  },
  {
   "cell_type": "code",
   "execution_count": null,
   "id": "50b41c30-1b73-4f86-b04a-930d7f2a0c6b",
   "metadata": {},
   "outputs": [],
   "source": []
  },
  {
   "cell_type": "code",
   "execution_count": 7,
   "id": "894f4e49-d306-45bb-a8e3-b68b0395e7be",
   "metadata": {},
   "outputs": [
    {
     "data": {
      "text/html": [
       "<div>\n",
       "<style scoped>\n",
       "    .dataframe tbody tr th:only-of-type {\n",
       "        vertical-align: middle;\n",
       "    }\n",
       "\n",
       "    .dataframe tbody tr th {\n",
       "        vertical-align: top;\n",
       "    }\n",
       "\n",
       "    .dataframe thead th {\n",
       "        text-align: right;\n",
       "    }\n",
       "</style>\n",
       "<table border=\"1\" class=\"dataframe\">\n",
       "  <thead>\n",
       "    <tr style=\"text-align: right;\">\n",
       "      <th></th>\n",
       "      <th>CDPHId</th>\n",
       "      <th>ProductName</th>\n",
       "      <th>CSFId</th>\n",
       "      <th>CSF</th>\n",
       "      <th>CompanyId</th>\n",
       "      <th>CompanyName</th>\n",
       "      <th>BrandName</th>\n",
       "      <th>PrimaryCategoryId</th>\n",
       "      <th>PrimaryCategory</th>\n",
       "      <th>SubCategoryId</th>\n",
       "      <th>...</th>\n",
       "      <th>CasNumber</th>\n",
       "      <th>ChemicalId</th>\n",
       "      <th>ChemicalName</th>\n",
       "      <th>InitialDateReported</th>\n",
       "      <th>MostRecentDateReported</th>\n",
       "      <th>DiscontinuedDate</th>\n",
       "      <th>ChemicalCreatedAt</th>\n",
       "      <th>ChemicalUpdatedAt</th>\n",
       "      <th>ChemicalDateRemoved</th>\n",
       "      <th>ChemicalCount</th>\n",
       "    </tr>\n",
       "  </thead>\n",
       "  <tbody>\n",
       "    <tr>\n",
       "      <th>0</th>\n",
       "      <td>2</td>\n",
       "      <td>ULTRA COLOR RICH EXTRA PLUMP LIPSTICK-ALL SHADES</td>\n",
       "      <td>NaN</td>\n",
       "      <td>NaN</td>\n",
       "      <td>4</td>\n",
       "      <td>New Avon LLC</td>\n",
       "      <td>AVON</td>\n",
       "      <td>44</td>\n",
       "      <td>Makeup Products (non-permanent)</td>\n",
       "      <td>53</td>\n",
       "      <td>...</td>\n",
       "      <td>13463-67-7</td>\n",
       "      <td>6</td>\n",
       "      <td>Titanium dioxide</td>\n",
       "      <td>06/17/2009</td>\n",
       "      <td>08/28/2013</td>\n",
       "      <td>02/01/2011</td>\n",
       "      <td>07/09/2009</td>\n",
       "      <td>07/09/2009</td>\n",
       "      <td>NaN</td>\n",
       "      <td>1</td>\n",
       "    </tr>\n",
       "    <tr>\n",
       "      <th>1</th>\n",
       "      <td>3</td>\n",
       "      <td>Glover's Medicated Shampoo</td>\n",
       "      <td>NaN</td>\n",
       "      <td>NaN</td>\n",
       "      <td>338</td>\n",
       "      <td>J. Strickland &amp; Co.</td>\n",
       "      <td>Glover's</td>\n",
       "      <td>18</td>\n",
       "      <td>Hair Care Products (non-coloring)</td>\n",
       "      <td>25</td>\n",
       "      <td>...</td>\n",
       "      <td>65996-92-1</td>\n",
       "      <td>4</td>\n",
       "      <td>Distillates (coal tar)</td>\n",
       "      <td>07/01/2009</td>\n",
       "      <td>07/01/2009</td>\n",
       "      <td>NaN</td>\n",
       "      <td>07/01/2009</td>\n",
       "      <td>07/01/2009</td>\n",
       "      <td>NaN</td>\n",
       "      <td>2</td>\n",
       "    </tr>\n",
       "    <tr>\n",
       "      <th>2</th>\n",
       "      <td>3</td>\n",
       "      <td>Glover's Medicated Shampoo</td>\n",
       "      <td>NaN</td>\n",
       "      <td>NaN</td>\n",
       "      <td>338</td>\n",
       "      <td>J. Strickland &amp; Co.</td>\n",
       "      <td>Glover's</td>\n",
       "      <td>18</td>\n",
       "      <td>Hair Care Products (non-coloring)</td>\n",
       "      <td>25</td>\n",
       "      <td>...</td>\n",
       "      <td>140-67-0</td>\n",
       "      <td>5</td>\n",
       "      <td>Estragole</td>\n",
       "      <td>07/01/2009</td>\n",
       "      <td>07/01/2009</td>\n",
       "      <td>NaN</td>\n",
       "      <td>07/02/2009</td>\n",
       "      <td>07/02/2009</td>\n",
       "      <td>NaN</td>\n",
       "      <td>2</td>\n",
       "    </tr>\n",
       "    <tr>\n",
       "      <th>3</th>\n",
       "      <td>4</td>\n",
       "      <td>PRECISION GLIMMER EYE LINER-ALL SHADES �</td>\n",
       "      <td>NaN</td>\n",
       "      <td>NaN</td>\n",
       "      <td>4</td>\n",
       "      <td>New Avon LLC</td>\n",
       "      <td>AVON</td>\n",
       "      <td>44</td>\n",
       "      <td>Makeup Products (non-permanent)</td>\n",
       "      <td>46</td>\n",
       "      <td>...</td>\n",
       "      <td>13463-67-7</td>\n",
       "      <td>7</td>\n",
       "      <td>Titanium dioxide</td>\n",
       "      <td>07/09/2009</td>\n",
       "      <td>08/28/2013</td>\n",
       "      <td>NaN</td>\n",
       "      <td>07/09/2009</td>\n",
       "      <td>07/09/2009</td>\n",
       "      <td>NaN</td>\n",
       "      <td>1</td>\n",
       "    </tr>\n",
       "    <tr>\n",
       "      <th>4</th>\n",
       "      <td>5</td>\n",
       "      <td>AVON BRILLIANT SHINE LIP GLOSS-ALL SHADES �</td>\n",
       "      <td>NaN</td>\n",
       "      <td>NaN</td>\n",
       "      <td>4</td>\n",
       "      <td>New Avon LLC</td>\n",
       "      <td>AVON</td>\n",
       "      <td>44</td>\n",
       "      <td>Makeup Products (non-permanent)</td>\n",
       "      <td>52</td>\n",
       "      <td>...</td>\n",
       "      <td>13463-67-7</td>\n",
       "      <td>8</td>\n",
       "      <td>Titanium dioxide</td>\n",
       "      <td>07/09/2009</td>\n",
       "      <td>08/28/2013</td>\n",
       "      <td>02/01/2011</td>\n",
       "      <td>07/09/2009</td>\n",
       "      <td>07/09/2009</td>\n",
       "      <td>NaN</td>\n",
       "      <td>1</td>\n",
       "    </tr>\n",
       "  </tbody>\n",
       "</table>\n",
       "<p>5 rows × 22 columns</p>\n",
       "</div>"
      ],
      "text/plain": [
       "   CDPHId                                       ProductName  CSFId  CSF  \\\n",
       "0       2  ULTRA COLOR RICH EXTRA PLUMP LIPSTICK-ALL SHADES    NaN  NaN   \n",
       "1       3                        Glover's Medicated Shampoo    NaN  NaN   \n",
       "2       3                        Glover's Medicated Shampoo    NaN  NaN   \n",
       "3       4          PRECISION GLIMMER EYE LINER-ALL SHADES �    NaN  NaN   \n",
       "4       5       AVON BRILLIANT SHINE LIP GLOSS-ALL SHADES �    NaN  NaN   \n",
       "\n",
       "   CompanyId          CompanyName BrandName  PrimaryCategoryId  \\\n",
       "0          4         New Avon LLC      AVON                 44   \n",
       "1        338  J. Strickland & Co.  Glover's                 18   \n",
       "2        338  J. Strickland & Co.  Glover's                 18   \n",
       "3          4         New Avon LLC      AVON                 44   \n",
       "4          4         New Avon LLC      AVON                 44   \n",
       "\n",
       "                     PrimaryCategory  SubCategoryId  ...   CasNumber  \\\n",
       "0    Makeup Products (non-permanent)             53  ...  13463-67-7   \n",
       "1  Hair Care Products (non-coloring)             25  ...  65996-92-1   \n",
       "2  Hair Care Products (non-coloring)             25  ...    140-67-0   \n",
       "3    Makeup Products (non-permanent)             46  ...  13463-67-7   \n",
       "4    Makeup Products (non-permanent)             52  ...  13463-67-7   \n",
       "\n",
       "   ChemicalId            ChemicalName  InitialDateReported  \\\n",
       "0           6        Titanium dioxide           06/17/2009   \n",
       "1           4  Distillates (coal tar)           07/01/2009   \n",
       "2           5               Estragole           07/01/2009   \n",
       "3           7        Titanium dioxide           07/09/2009   \n",
       "4           8        Titanium dioxide           07/09/2009   \n",
       "\n",
       "  MostRecentDateReported DiscontinuedDate ChemicalCreatedAt ChemicalUpdatedAt  \\\n",
       "0             08/28/2013       02/01/2011        07/09/2009        07/09/2009   \n",
       "1             07/01/2009              NaN        07/01/2009        07/01/2009   \n",
       "2             07/01/2009              NaN        07/02/2009        07/02/2009   \n",
       "3             08/28/2013              NaN        07/09/2009        07/09/2009   \n",
       "4             08/28/2013       02/01/2011        07/09/2009        07/09/2009   \n",
       "\n",
       "  ChemicalDateRemoved ChemicalCount  \n",
       "0                 NaN             1  \n",
       "1                 NaN             2  \n",
       "2                 NaN             2  \n",
       "3                 NaN             1  \n",
       "4                 NaN             1  \n",
       "\n",
       "[5 rows x 22 columns]"
      ]
     },
     "execution_count": 7,
     "metadata": {},
     "output_type": "execute_result"
    }
   ],
   "source": [
    "data.head()"
   ]
  },
  {
   "cell_type": "code",
   "execution_count": 9,
   "id": "722aecf4-d178-4dd4-a0d8-55a087f8a045",
   "metadata": {},
   "outputs": [
    {
     "data": {
      "text/plain": [
       "(114635, 22)"
      ]
     },
     "execution_count": 9,
     "metadata": {},
     "output_type": "execute_result"
    }
   ],
   "source": [
    "data.shape"
   ]
  },
  {
   "cell_type": "code",
   "execution_count": 11,
   "id": "4a77bc00-6b23-4f53-b42a-5631eb68a9a9",
   "metadata": {
    "scrolled": true
   },
   "outputs": [
    {
     "name": "stdout",
     "output_type": "stream",
     "text": [
      "<class 'pandas.core.frame.DataFrame'>\n",
      "RangeIndex: 114635 entries, 0 to 114634\n",
      "Data columns (total 22 columns):\n",
      " #   Column                  Non-Null Count   Dtype  \n",
      "---  ------                  --------------   -----  \n",
      " 0   CDPHId                  114635 non-null  int64  \n",
      " 1   ProductName             114635 non-null  object \n",
      " 2   CSFId                   80662 non-null   float64\n",
      " 3   CSF                     80237 non-null   object \n",
      " 4   CompanyId               114635 non-null  int64  \n",
      " 5   CompanyName             114635 non-null  object \n",
      " 6   BrandName               114408 non-null  object \n",
      " 7   PrimaryCategoryId       114635 non-null  int64  \n",
      " 8   PrimaryCategory         114635 non-null  object \n",
      " 9   SubCategoryId           114635 non-null  int64  \n",
      " 10  SubCategory             114635 non-null  object \n",
      " 11  CasId                   114635 non-null  int64  \n",
      " 12  CasNumber               108159 non-null  object \n",
      " 13  ChemicalId              114635 non-null  int64  \n",
      " 14  ChemicalName            114635 non-null  object \n",
      " 15  InitialDateReported     114635 non-null  object \n",
      " 16  MostRecentDateReported  114635 non-null  object \n",
      " 17  DiscontinuedDate        12920 non-null   object \n",
      " 18  ChemicalCreatedAt       114635 non-null  object \n",
      " 19  ChemicalUpdatedAt       114635 non-null  object \n",
      " 20  ChemicalDateRemoved     2985 non-null    object \n",
      " 21  ChemicalCount           114635 non-null  int64  \n",
      "dtypes: float64(1), int64(7), object(14)\n",
      "memory usage: 19.2+ MB\n"
     ]
    }
   ],
   "source": [
    "data.info()"
   ]
  },
  {
   "cell_type": "code",
   "execution_count": 13,
   "id": "0a77350f-105a-4ba2-b8fa-fc7f7fbb5920",
   "metadata": {},
   "outputs": [],
   "source": [
    "data.drop_duplicates(inplace=True)# removing duplicate"
   ]
  },
  {
   "cell_type": "code",
   "execution_count": 15,
   "id": "dc9698cf-9ff3-489c-bf98-445a06965541",
   "metadata": {},
   "outputs": [
    {
     "data": {
      "text/html": [
       "<div>\n",
       "<style scoped>\n",
       "    .dataframe tbody tr th:only-of-type {\n",
       "        vertical-align: middle;\n",
       "    }\n",
       "\n",
       "    .dataframe tbody tr th {\n",
       "        vertical-align: top;\n",
       "    }\n",
       "\n",
       "    .dataframe thead th {\n",
       "        text-align: right;\n",
       "    }\n",
       "</style>\n",
       "<table border=\"1\" class=\"dataframe\">\n",
       "  <thead>\n",
       "    <tr style=\"text-align: right;\">\n",
       "      <th></th>\n",
       "      <th>count</th>\n",
       "      <th>percentage</th>\n",
       "    </tr>\n",
       "  </thead>\n",
       "  <tbody>\n",
       "    <tr>\n",
       "      <th>CDPHId</th>\n",
       "      <td>0</td>\n",
       "      <td>0.00</td>\n",
       "    </tr>\n",
       "    <tr>\n",
       "      <th>ProductName</th>\n",
       "      <td>0</td>\n",
       "      <td>0.00</td>\n",
       "    </tr>\n",
       "    <tr>\n",
       "      <th>CSFId</th>\n",
       "      <td>33731</td>\n",
       "      <td>29.49</td>\n",
       "    </tr>\n",
       "    <tr>\n",
       "      <th>CSF</th>\n",
       "      <td>34156</td>\n",
       "      <td>29.86</td>\n",
       "    </tr>\n",
       "    <tr>\n",
       "      <th>CompanyId</th>\n",
       "      <td>0</td>\n",
       "      <td>0.00</td>\n",
       "    </tr>\n",
       "    <tr>\n",
       "      <th>CompanyName</th>\n",
       "      <td>0</td>\n",
       "      <td>0.00</td>\n",
       "    </tr>\n",
       "    <tr>\n",
       "      <th>BrandName</th>\n",
       "      <td>227</td>\n",
       "      <td>0.20</td>\n",
       "    </tr>\n",
       "    <tr>\n",
       "      <th>PrimaryCategoryId</th>\n",
       "      <td>0</td>\n",
       "      <td>0.00</td>\n",
       "    </tr>\n",
       "    <tr>\n",
       "      <th>PrimaryCategory</th>\n",
       "      <td>0</td>\n",
       "      <td>0.00</td>\n",
       "    </tr>\n",
       "    <tr>\n",
       "      <th>SubCategoryId</th>\n",
       "      <td>0</td>\n",
       "      <td>0.00</td>\n",
       "    </tr>\n",
       "    <tr>\n",
       "      <th>SubCategory</th>\n",
       "      <td>0</td>\n",
       "      <td>0.00</td>\n",
       "    </tr>\n",
       "    <tr>\n",
       "      <th>CasId</th>\n",
       "      <td>0</td>\n",
       "      <td>0.00</td>\n",
       "    </tr>\n",
       "    <tr>\n",
       "      <th>CasNumber</th>\n",
       "      <td>6475</td>\n",
       "      <td>5.66</td>\n",
       "    </tr>\n",
       "    <tr>\n",
       "      <th>ChemicalId</th>\n",
       "      <td>0</td>\n",
       "      <td>0.00</td>\n",
       "    </tr>\n",
       "    <tr>\n",
       "      <th>ChemicalName</th>\n",
       "      <td>0</td>\n",
       "      <td>0.00</td>\n",
       "    </tr>\n",
       "    <tr>\n",
       "      <th>InitialDateReported</th>\n",
       "      <td>0</td>\n",
       "      <td>0.00</td>\n",
       "    </tr>\n",
       "    <tr>\n",
       "      <th>MostRecentDateReported</th>\n",
       "      <td>0</td>\n",
       "      <td>0.00</td>\n",
       "    </tr>\n",
       "    <tr>\n",
       "      <th>DiscontinuedDate</th>\n",
       "      <td>101508</td>\n",
       "      <td>88.75</td>\n",
       "    </tr>\n",
       "    <tr>\n",
       "      <th>ChemicalCreatedAt</th>\n",
       "      <td>0</td>\n",
       "      <td>0.00</td>\n",
       "    </tr>\n",
       "    <tr>\n",
       "      <th>ChemicalUpdatedAt</th>\n",
       "      <td>0</td>\n",
       "      <td>0.00</td>\n",
       "    </tr>\n",
       "    <tr>\n",
       "      <th>ChemicalDateRemoved</th>\n",
       "      <td>111396</td>\n",
       "      <td>97.39</td>\n",
       "    </tr>\n",
       "    <tr>\n",
       "      <th>ChemicalCount</th>\n",
       "      <td>0</td>\n",
       "      <td>0.00</td>\n",
       "    </tr>\n",
       "  </tbody>\n",
       "</table>\n",
       "</div>"
      ],
      "text/plain": [
       "                         count  percentage\n",
       "CDPHId                       0        0.00\n",
       "ProductName                  0        0.00\n",
       "CSFId                    33731       29.49\n",
       "CSF                      34156       29.86\n",
       "CompanyId                    0        0.00\n",
       "CompanyName                  0        0.00\n",
       "BrandName                  227        0.20\n",
       "PrimaryCategoryId            0        0.00\n",
       "PrimaryCategory              0        0.00\n",
       "SubCategoryId                0        0.00\n",
       "SubCategory                  0        0.00\n",
       "CasId                        0        0.00\n",
       "CasNumber                 6475        5.66\n",
       "ChemicalId                   0        0.00\n",
       "ChemicalName                 0        0.00\n",
       "InitialDateReported          0        0.00\n",
       "MostRecentDateReported       0        0.00\n",
       "DiscontinuedDate        101508       88.75\n",
       "ChemicalCreatedAt            0        0.00\n",
       "ChemicalUpdatedAt            0        0.00\n",
       "ChemicalDateRemoved     111396       97.39\n",
       "ChemicalCount                0        0.00"
      ]
     },
     "execution_count": 15,
     "metadata": {},
     "output_type": "execute_result"
    }
   ],
   "source": [
    "missing_count = data.isnull().sum()# checking for missing value\n",
    "value_count = data.isnull().count()\n",
    "missing_percentage = round(missing_count / value_count * 100, 2)\n",
    "missing_value = pd.DataFrame({\"count\": missing_count, \"percentage\": missing_percentage})\n",
    "missing_value"
   ]
  },
  {
   "cell_type": "code",
   "execution_count": 17,
   "id": "a8d978b6-61e3-4a9d-9b25-54b13a7b98ab",
   "metadata": {},
   "outputs": [],
   "source": [
    "data['Discontinued'] = data['DiscontinuedDate'].notnull().astype(int) # creating target variable\n"
   ]
  },
  {
   "cell_type": "code",
   "execution_count": 19,
   "id": "a923e27c-c9c0-4c33-a026-7768560056a3",
   "metadata": {},
   "outputs": [
    {
     "data": {
      "text/plain": [
       "Index(['CDPHId', 'ProductName', 'CSFId', 'CSF', 'CompanyId', 'CompanyName',\n",
       "       'BrandName', 'PrimaryCategoryId', 'PrimaryCategory', 'SubCategoryId',\n",
       "       'SubCategory', 'CasId', 'CasNumber', 'ChemicalId', 'ChemicalName',\n",
       "       'InitialDateReported', 'MostRecentDateReported', 'DiscontinuedDate',\n",
       "       'ChemicalCreatedAt', 'ChemicalUpdatedAt', 'ChemicalDateRemoved',\n",
       "       'ChemicalCount', 'Discontinued'],\n",
       "      dtype='object')"
      ]
     },
     "execution_count": 19,
     "metadata": {},
     "output_type": "execute_result"
    }
   ],
   "source": [
    "data.columns# data has column redundancy where extra column of id is present removing that , removing unwanted column"
   ]
  },
  {
   "cell_type": "code",
   "execution_count": 21,
   "id": "0621d5da-79a1-41bc-ad8e-368dfce4971d",
   "metadata": {},
   "outputs": [],
   "source": [
    "data.drop(columns=['CSFId','CompanyId','PrimaryCategoryId','SubCategoryId','CasId','ChemicalId','CSF','CasNumber','CDPHId',\t'ChemicalCreatedAt'\t,'ChemicalUpdatedAt','InitialDateReported',\t'MostRecentDateReported','ChemicalDateRemoved'],inplace=  True)"
   ]
  },
  {
   "cell_type": "code",
   "execution_count": null,
   "id": "ac2bb08d-70b6-4906-9727-eadb1fcf900a",
   "metadata": {},
   "outputs": [],
   "source": []
  },
  {
   "cell_type": "code",
   "execution_count": 24,
   "id": "0a1f6db4-c453-4f4c-b06c-a44f6c7978b1",
   "metadata": {},
   "outputs": [
    {
     "data": {
      "text/html": [
       "<div>\n",
       "<style scoped>\n",
       "    .dataframe tbody tr th:only-of-type {\n",
       "        vertical-align: middle;\n",
       "    }\n",
       "\n",
       "    .dataframe tbody tr th {\n",
       "        vertical-align: top;\n",
       "    }\n",
       "\n",
       "    .dataframe thead th {\n",
       "        text-align: right;\n",
       "    }\n",
       "</style>\n",
       "<table border=\"1\" class=\"dataframe\">\n",
       "  <thead>\n",
       "    <tr style=\"text-align: right;\">\n",
       "      <th></th>\n",
       "      <th>count</th>\n",
       "      <th>percentage</th>\n",
       "    </tr>\n",
       "  </thead>\n",
       "  <tbody>\n",
       "    <tr>\n",
       "      <th>ProductName</th>\n",
       "      <td>0</td>\n",
       "      <td>0.00</td>\n",
       "    </tr>\n",
       "    <tr>\n",
       "      <th>CompanyName</th>\n",
       "      <td>0</td>\n",
       "      <td>0.00</td>\n",
       "    </tr>\n",
       "    <tr>\n",
       "      <th>BrandName</th>\n",
       "      <td>227</td>\n",
       "      <td>0.20</td>\n",
       "    </tr>\n",
       "    <tr>\n",
       "      <th>PrimaryCategory</th>\n",
       "      <td>0</td>\n",
       "      <td>0.00</td>\n",
       "    </tr>\n",
       "    <tr>\n",
       "      <th>SubCategory</th>\n",
       "      <td>0</td>\n",
       "      <td>0.00</td>\n",
       "    </tr>\n",
       "    <tr>\n",
       "      <th>ChemicalName</th>\n",
       "      <td>0</td>\n",
       "      <td>0.00</td>\n",
       "    </tr>\n",
       "    <tr>\n",
       "      <th>DiscontinuedDate</th>\n",
       "      <td>101508</td>\n",
       "      <td>88.75</td>\n",
       "    </tr>\n",
       "    <tr>\n",
       "      <th>ChemicalCount</th>\n",
       "      <td>0</td>\n",
       "      <td>0.00</td>\n",
       "    </tr>\n",
       "    <tr>\n",
       "      <th>Discontinued</th>\n",
       "      <td>0</td>\n",
       "      <td>0.00</td>\n",
       "    </tr>\n",
       "  </tbody>\n",
       "</table>\n",
       "</div>"
      ],
      "text/plain": [
       "                   count  percentage\n",
       "ProductName            0        0.00\n",
       "CompanyName            0        0.00\n",
       "BrandName            227        0.20\n",
       "PrimaryCategory        0        0.00\n",
       "SubCategory            0        0.00\n",
       "ChemicalName           0        0.00\n",
       "DiscontinuedDate  101508       88.75\n",
       "ChemicalCount          0        0.00\n",
       "Discontinued           0        0.00"
      ]
     },
     "execution_count": 24,
     "metadata": {},
     "output_type": "execute_result"
    }
   ],
   "source": [
    "missing_count = data.isnull().sum()\n",
    "value_count = data.isnull().count()\n",
    "missing_percentage = round(missing_count / value_count * 100, 2)\n",
    "missing_value = pd.DataFrame({\"count\": missing_count, \"percentage\": missing_percentage})\n",
    "missing_value"
   ]
  },
  {
   "cell_type": "code",
   "execution_count": 26,
   "id": "2e67a51f-dc23-4e77-bdb0-ee65ca035172",
   "metadata": {},
   "outputs": [],
   "source": [
    "data.dropna(subset=['BrandName'], inplace=True)"
   ]
  },
  {
   "cell_type": "code",
   "execution_count": 28,
   "id": "023b9a1b-a456-44f6-92f0-df5b3e87dcf4",
   "metadata": {},
   "outputs": [
    {
     "data": {
      "text/plain": [
       "(114154, 9)"
      ]
     },
     "execution_count": 28,
     "metadata": {},
     "output_type": "execute_result"
    }
   ],
   "source": [
    "data .shape"
   ]
  },
  {
   "cell_type": "code",
   "execution_count": 34,
   "id": "336b9216-667f-41f1-ab75-720d619c50a7",
   "metadata": {},
   "outputs": [],
   "source": [
    "data.to_csv(\"clean_data.csv\")"
   ]
  },
  {
   "cell_type": "markdown",
   "id": "2102203a-2f44-457c-ba3b-cf91d0eaa3b0",
   "metadata": {},
   "source": [
    "### LabelEncoder"
   ]
  },
  {
   "cell_type": "code",
   "execution_count": 37,
   "id": "17095d85-6db9-4b00-902a-b3252d2eaf9f",
   "metadata": {},
   "outputs": [],
   "source": [
    "from sklearn.preprocessing import LabelEncoder\n",
    "\n",
    "# Label Encode categorical columns\n",
    "label_encoders = {}\n",
    "for col in [\"ProductName\", \"CompanyName\", \"BrandName\", \"PrimaryCategory\", \"SubCategory\", \"ChemicalName\"]:\n",
    "    le = LabelEncoder()\n",
    "    data[col] = le.fit_transform(data[col])\n",
    "    label_encoders[col] = le  # Store encoder for later use"
   ]
  },
  {
   "cell_type": "markdown",
   "id": "e8ba64c4-f51d-4508-8c86-f224509e9a77",
   "metadata": {},
   "source": [
    "### feature selection"
   ]
  },
  {
   "cell_type": "code",
   "execution_count": 40,
   "id": "7da4b1ee-fead-4bb3-9737-50209ff19639",
   "metadata": {},
   "outputs": [
    {
     "name": "stdout",
     "output_type": "stream",
     "text": [
      "Selected Features: Index(['ProductName', 'CompanyName', 'BrandName', 'SubCategory'], dtype='object')\n"
     ]
    }
   ],
   "source": [
    "from sklearn.feature_selection import RFE\n",
    "from sklearn.ensemble import RandomForestClassifier\n",
    "\n",
    "\n",
    "X_ = data.drop(columns=[\"Discontinued\",'DiscontinuedDate'])  # Features\n",
    "y_ = data[\"Discontinued\"]  # Target variab\n",
    "\n",
    "# Use RandomForest for feature ranking\n",
    "model = RandomForestClassifier(n_estimators=100, random_state=42)\n",
    "\n",
    "# Apply RFE to select top 10 features\n",
    "rfe = RFE(estimator=model, n_features_to_select=4)\n",
    "X_new = rfe.fit_transform(X_, y_)\n",
    "\n",
    "# Get selected features\n",
    "selected_features = X_.columns[rfe.support_]\n",
    "print(\"Selected Features:\", selected_features)\n"
   ]
  },
  {
   "cell_type": "code",
   "execution_count": 41,
   "id": "2f15f5ce-6eea-48f7-a02b-bd6e722c7c2d",
   "metadata": {},
   "outputs": [
    {
     "name": "stdout",
     "output_type": "stream",
     "text": [
      "Selected Features: Index(['CompanyName', 'PrimaryCategory', 'SubCategory', 'ChemicalName'], dtype='object')\n"
     ]
    }
   ],
   "source": [
    "from sklearn.linear_model import LogisticRegression\n",
    "from sklearn.feature_selection import SelectFromModel\n",
    "from sklearn.preprocessing import MinMaxScaler\n",
    "\n",
    "scaler = MinMaxScaler()\n",
    "X_scaled = scaler.fit_transform(X_)\n",
    "\n",
    "# Train Logistic Regression Model\n",
    "log_reg = LogisticRegression(solver='liblinear')  # Use 'liblinear' for small datasets\n",
    "log_reg.fit(X_, y_)\n",
    "\n",
    "# Get feature importance (absolute values of coefficients)\n",
    "importance = abs(log_reg.coef_[0])\n",
    "\n",
    "# Select important features using threshold\n",
    "selector = SelectFromModel(log_reg, threshold=\"median\", prefit=True)\n",
    "X_train_selected = selector.transform(X_)\n",
    "\n",
    "# Get selected feature names\n",
    "selected_features = X_.columns[selector.get_support()]\n",
    "print(\"Selected Features:\", selected_features)\n"
   ]
  },
  {
   "cell_type": "markdown",
   "id": "05fcd787-2e99-4fb6-95c8-1d4aa92c4365",
   "metadata": {},
   "source": [
    "###### training random foreest with['ProductName', 'BrandName','SubCategory','ChemicalName', 'ChemicalCount']"
   ]
  },
  {
   "cell_type": "markdown",
   "id": "d6130910-7bdd-4ebe-8c6b-886f7f23329a",
   "metadata": {
    "jp-MarkdownHeadingCollapsed": true
   },
   "source": [
    "### RF"
   ]
  },
  {
   "cell_type": "code",
   "execution_count": 46,
   "id": "1ca148ea-81dc-4233-86e5-1e09a9273a10",
   "metadata": {},
   "outputs": [
    {
     "name": "stdout",
     "output_type": "stream",
     "text": [
      "0.98\n",
      "\n",
      " classification_report \n",
      "               precision    recall  f1-score   support\n",
      "\n",
      "           0       0.98      0.99      0.99     20278\n",
      "           1       0.93      0.86      0.89      2553\n",
      "\n",
      "    accuracy                           0.98     22831\n",
      "   macro avg       0.95      0.93      0.94     22831\n",
      "weighted avg       0.98      0.98      0.98     22831\n",
      "\n",
      "\n",
      "train accuracy : 1.00\n"
     ]
    }
   ],
   "source": [
    "features = data[['ProductName', 'BrandName','SubCategory','ChemicalName', 'ChemicalCount']]\n",
    "target = data['Discontinued']\n",
    "\n",
    "from sklearn.model_selection import train_test_split\n",
    "from sklearn.ensemble import RandomForestClassifier\n",
    "from sklearn.metrics import classification_report,accuracy_score\n",
    "\n",
    "X_train, X_test, y_train, y_test = train_test_split(features, target, test_size=0.2, random_state=42,stratify=target)\n",
    "\n",
    "model = RandomForestClassifier(n_estimators=100, random_state=42)\n",
    "model.fit(X_train, y_train)\n",
    "\n",
    "y_pred = model.predict(X_test)\n",
    "accuracy = accuracy_score(y_test,y_pred)\n",
    "print(f'{accuracy:.2f}')\n",
    "print('\\n classification_report \\n',classification_report(y_test,y_pred))\n",
    "\n",
    "train_pred =model.predict(X_train)\n",
    "train_log_accuracy=accuracy_score(train_pred,y_train)\n",
    "print(f\"\\ntrain accuracy : {train_log_accuracy:.2f}\")\n"
   ]
  },
  {
   "cell_type": "code",
   "execution_count": null,
   "id": "d7a318e0-42fb-42ab-b9cc-c7c4f7df8005",
   "metadata": {},
   "outputs": [],
   "source": []
  },
  {
   "cell_type": "markdown",
   "id": "f5cd1cde-7731-40b5-a396-bfccd6ca9c46",
   "metadata": {
    "jp-MarkdownHeadingCollapsed": true
   },
   "source": [
    "### svm"
   ]
  },
  {
   "cell_type": "code",
   "execution_count": 50,
   "id": "9d49a99d-9688-452e-8023-c0142f0ef94d",
   "metadata": {},
   "outputs": [
    {
     "name": "stdout",
     "output_type": "stream",
     "text": [
      "Training Accuracy: 0.89\n",
      "accuracy_svm : 0.89\n",
      "\n",
      " classification report \n",
      "               precision    recall  f1-score   support\n",
      "\n",
      "           0       1.00      0.89      0.94     22831\n",
      "           1       0.00      0.00      0.00         0\n",
      "\n",
      "    accuracy                           0.89     22831\n",
      "   macro avg       0.50      0.44      0.47     22831\n",
      "weighted avg       1.00      0.89      0.94     22831\n",
      "\n"
     ]
    }
   ],
   "source": [
    "from sklearn.svm import SVC\n",
    "svm=SVC(kernel=\"rbf\", C=1, gamma=\"scale\")\n",
    "svm.fit(X_train, y_train)\n",
    "\n",
    "\n",
    "y_train_pred = svm.predict(X_train)\n",
    "train_accuracy = accuracy_score( y_train_pred, y_train)\n",
    "print(f\"Training Accuracy: {train_accuracy:.2f}\")\n",
    "\n",
    "y_pred_svm=svm.predict(X_test)\n",
    "accuracy_svm=accuracy_score(y_pred_svm,y_test)\n",
    "print(f\"accuracy_svm : {accuracy_svm:.2f}\")\n",
    "\n",
    "\n",
    "print (\"\\n classification report \\n\", classification_report(y_pred_svm,y_test))"
   ]
  },
  {
   "cell_type": "markdown",
   "id": "8feb8ac0-e002-486f-8d86-0ffa146f44b2",
   "metadata": {
    "jp-MarkdownHeadingCollapsed": true
   },
   "source": [
    "### xgb"
   ]
  },
  {
   "cell_type": "code",
   "execution_count": 52,
   "id": "d021d418-71e5-45ae-9182-5cbe429dcd59",
   "metadata": {},
   "outputs": [
    {
     "name": "stdout",
     "output_type": "stream",
     "text": [
      "Test Accuracy: 0.9153\n",
      "              precision    recall  f1-score   support\n",
      "\n",
      "           0       0.92      0.99      0.95     20278\n",
      "           1       0.85      0.29      0.44      2553\n",
      "\n",
      "    accuracy                           0.92     22831\n",
      "   macro avg       0.88      0.64      0.70     22831\n",
      "weighted avg       0.91      0.92      0.90     22831\n",
      "\n",
      "\n",
      "train accuracy : 1.00\n"
     ]
    }
   ],
   "source": [
    "import xgboost as xgb\n",
    "\n",
    "xgb_model = xgb.XGBClassifier(\n",
    "    n_estimators=100,         \n",
    "    learning_rate=0.05,   \n",
    "    max_depth=4,             \n",
    "   \n",
    "    random_state=42\n",
    ")\n",
    "\n",
    "\n",
    "xgb_model.fit(X_train, y_train, verbose=False)\n",
    "\n",
    "\n",
    "y_pred = xgb_model.predict(X_test)\n",
    "\n",
    "# Print accuracy\n",
    "accuracy = accuracy_score(y_test, y_pred)\n",
    "print(f\"Test Accuracy: {accuracy:.4f}\")\n",
    "\n",
    "# Print classification report\n",
    "print(classification_report(y_test, y_pred))\n",
    "\n",
    "\n",
    "train_pred =model.predict(X_train)\n",
    "train_log_accuracy=accuracy_score(train_pred,y_train)\n",
    "print(f\"\\ntrain accuracy : {train_log_accuracy:.2f}\")"
   ]
  },
  {
   "cell_type": "code",
   "execution_count": null,
   "id": "47066127-e701-4e29-8504-812558ed5ee8",
   "metadata": {},
   "outputs": [],
   "source": []
  },
  {
   "cell_type": "markdown",
   "id": "ea49d891-9300-49ff-aade-0cd5221e3a4a",
   "metadata": {},
   "source": [
    "### tuned random forest"
   ]
  },
  {
   "cell_type": "code",
   "execution_count": 55,
   "id": "b760f5a6-ff71-436f-b66c-11f262be18e5",
   "metadata": {},
   "outputs": [
    {
     "name": "stdout",
     "output_type": "stream",
     "text": [
      "0.94\n",
      "\n",
      " classification_report \n",
      "               precision    recall  f1-score   support\n",
      "\n",
      "           0       0.98      0.95      0.97     20278\n",
      "           1       0.69      0.84      0.76      2553\n",
      "\n",
      "    accuracy                           0.94     22831\n",
      "   macro avg       0.83      0.89      0.86     22831\n",
      "weighted avg       0.95      0.94      0.94     22831\n",
      "\n",
      "\n",
      "train accuracy : 0.95\n"
     ]
    }
   ],
   "source": [
    "model = RandomForestClassifier(\n",
    "    n_estimators=100,       \n",
    "    max_depth=12,         \n",
    "    min_samples_split=15,   \n",
    "    min_samples_leaf=5, \n",
    "    class_weight=\"balanced\",\n",
    "    random_state=42\n",
    ")\n",
    "\n",
    "model.fit(X_train, y_train)\n",
    "\n",
    "y_pred = model.predict(X_test)\n",
    "accuracy = accuracy_score(y_test,y_pred)\n",
    "print(f'{accuracy:.2f}')\n",
    "print('\\n classification_report \\n',classification_report(y_test,y_pred))\n",
    "\n",
    "train_pred =model.predict(X_train)\n",
    "train_log_accuracy=accuracy_score(train_pred,y_train)\n",
    "print(f\"\\ntrain accuracy : {train_log_accuracy:.2f}\")\n"
   ]
  },
  {
   "cell_type": "code",
   "execution_count": null,
   "id": "83dba1e5-53af-4489-b1d5-3711a438463b",
   "metadata": {},
   "outputs": [],
   "source": []
  },
  {
   "cell_type": "code",
   "execution_count": null,
   "id": "c9fc74a8-a9c5-4b24-9c9e-9231ae6d67c6",
   "metadata": {},
   "outputs": [],
   "source": []
  }
 ],
 "metadata": {
  "kernelspec": {
   "display_name": "Python 3 (ipykernel)",
   "language": "python",
   "name": "python3"
  },
  "language_info": {
   "codemirror_mode": {
    "name": "ipython",
    "version": 3
   },
   "file_extension": ".py",
   "mimetype": "text/x-python",
   "name": "python",
   "nbconvert_exporter": "python",
   "pygments_lexer": "ipython3",
   "version": "3.12.4"
  }
 },
 "nbformat": 4,
 "nbformat_minor": 5
}
